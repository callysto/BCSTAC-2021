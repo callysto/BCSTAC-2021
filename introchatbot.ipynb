{
 "cells": [
  {
   "cell_type": "markdown",
   "id": "c5fea029-f59e-4fbb-b65b-de67cf89b50d",
   "metadata": {},
   "source": [
    "test from jordan"
   ]
  },
  {
   "cell_type": "code",
   "execution_count": null,
   "id": "3b6fe047-2818-47e3-91ca-919f8501407b",
   "metadata": {},
   "outputs": [],
   "source": []
  }
 ],
 "metadata": {
  "kernelspec": {
   "display_name": "Python 3 (ipykernel)",
   "language": "python",
   "name": "python3"
  },
  "language_info": {
   "codemirror_mode": {
    "name": "ipython",
    "version": 3
   },
   "file_extension": ".py",
   "mimetype": "text/x-python",
   "name": "python",
   "nbconvert_exporter": "python",
   "pygments_lexer": "ipython3",
   "version": "3.9.12"
  }
 },
 "nbformat": 4,
 "nbformat_minor": 5
}
