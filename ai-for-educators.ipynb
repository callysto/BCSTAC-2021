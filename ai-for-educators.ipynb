{
 "cells": [
  {
   "cell_type": "markdown",
   "metadata": {
    "slideshow": {
     "slide_type": "slide"
    }
   },
   "source": [
    "![Callysto.ca Banner](https://github.com/callysto/curriculum-notebooks/blob/master/callysto-notebook-banner-top.jpg?raw=true)\n",
    " \n",
    "<a href=\"https://hub.callysto.ca/jupyter/hub/user-redirect/git-pull?repo=https%3A%2F%2Fgithub.com%2Fcallysto%2Fartificial-intelligence-for-educators&branch=main&urlpath=notebooks/artificial-intelligence-for-educators/ai-for-educators.ipynb&depth=1\" target=\"_parent\"><img src=\"https://raw.githubusercontent.com/callysto/curriculum-notebooks/master/open-in-callysto-button.svg?sanitize=true\" width=\"123\" height=\"24\" alt=\"Open in Callysto\"></a>"
   ]
  },
  {
   "cell_type": "markdown",
   "metadata": {
    "slideshow": {
     "slide_type": "slide"
    }
   },
   "source": [
    "<h1 align='center'>The Importance of Ethics in AI</h1>"
   ]
  },
  {
   "cell_type": "markdown",
   "metadata": {
    "slideshow": {
     "slide_type": "slide"
    }
   },
   "source": [
    "### What is a Jupyter notebook?\n",
    "\n",
    "A Jupyter notebook is an online document that can include both text and code in different “cells” or parts of the document. It allows code to be shared alongside text that explains and contextualizes the data, which makes it a popular resource for both data science and instruction.\n",
    "\n",
    "These documents run on Callysto Hub as well as Google Colab, IBM Watson Studio, and other places.\n",
    "\n",
    "This presentation is a Jupyter notebook!"
   ]
  },
  {
   "cell_type": "markdown",
   "metadata": {
    "slideshow": {
     "slide_type": "slide"
    }
   },
   "source": [
    "### Callysto notebooks ready for you to use!\n",
    "\n",
    "On our website, [callysto.ca](https://www.callysto.ca/), you will find lesson plans, courses and learning modules that support you in incorporating coding into your lessons. \n",
    "\n",
    "Some examples focusing on statistics:\n",
    "\n",
    "\n",
    "\n",
    "| |\n",
    "|-|\n",
    "|<img src=\"./images/samplenotebooks.png\" width=\"600\">|"
   ]
  },
  {
   "cell_type": "markdown",
   "metadata": {
    "slideshow": {
     "slide_type": "subslide"
    }
   },
   "source": [
    "## Example: Comparing data on people's preferred season\n",
    "\n",
    "#### Introduction to Python and simple datasets\n",
    "\n",
    "Here we'll create a simple table and show how it can be visualized. You don't need to modify any of the code cells, but if you'd like to play around with the code please do!\n",
    "\n",
    "To run each cell:\n",
    "\n",
    "- Click the `Run` button up above\n",
    "- Click within the cell and press `Shift+Enter`"
   ]
  },
  {
   "cell_type": "code",
   "execution_count": null,
   "metadata": {
    "slideshow": {
     "slide_type": "fragment"
    }
   },
   "outputs": [],
   "source": [
    "# Creating data set\n",
    "total_participants = 30\n",
    "prefer_spring = 5\n",
    "prefer_summer = 10\n",
    "prefer_fall = 10\n",
    "prefer_winter = 5\n",
    "no_answer = total_participants - (prefer_spring + prefer_summer + prefer_fall + prefer_winter)\n",
    "print('Data created')"
   ]
  },
  {
   "cell_type": "code",
   "execution_count": null,
   "metadata": {
    "slideshow": {
     "slide_type": "fragment"
    }
   },
   "outputs": [],
   "source": [
    "import pandas as pd\n",
    "answer = {\"Season\": [\"Spring\", \"Summer\", \"Fall\", \"Winter\", \"No answer\"],\n",
    "           \"Count\": [prefer_spring, prefer_summer, prefer_fall, prefer_winter, no_answer]}\n",
    "\n",
    "answer_table = pd.DataFrame(answer)\n",
    "answer_table"
   ]
  },
  {
   "cell_type": "code",
   "execution_count": null,
   "metadata": {
    "slideshow": {
     "slide_type": "fragment"
    }
   },
   "outputs": [],
   "source": [
    "import seaborn as sns\n",
    "import matplotlib.pyplot as plt\n",
    "sns.barplot(x = answer_table[\"Season\"], y =  answer_table['Count'])\n",
    "plt.title(\"Comparison of season preference\")\n",
    "plt.ylabel(\"Count\")\n",
    "plt.xlabel(\"Season\")\n",
    "plt.show()"
   ]
  },
  {
   "cell_type": "markdown",
   "metadata": {
    "slideshow": {
     "slide_type": "slide"
    }
   },
   "source": [
    "# Exercise: Using machine learning to predict sports enrolment\n",
    "Nowadays, machine learning is really accessible and easy to implement. The knowledge and tools are freely available (like this notebook!), but there are far fewer resources on how to ensure it's being used in a fair and equitable way. We'll go through an example of how it can be used and potential problems you may face when applying machine learning as a solution."
   ]
  },
  {
   "cell_type": "markdown",
   "metadata": {
    "slideshow": {
     "slide_type": "slide"
    }
   },
   "source": [
    "Data has been collected from 150 male students (all 18 years old) in three groups: \n",
    "1. 50 students excelled in team sports (football, basketball, hockey)\n",
    "1. 50 students excelled in individual sports (swimming, cycling, snowboarding)\n",
    "1. 50 students did not excel in any sports.\n",
    "\n",
    "The students were scored by the same coach in the same school. The following parameters were collected:\n",
    "\n",
    "1. Teamwork skills (coach score)\n",
    "1. Speed (coach score)\n",
    "1. Strength (coach score)\n",
    "1. Agility (coach score)\n",
    "\n",
    "### Using this (hypothetical) training data, can we build a model that predicts which sports students will excel in?"
   ]
  },
  {
   "cell_type": "markdown",
   "metadata": {
    "slideshow": {
     "slide_type": "slide"
    }
   },
   "source": [
    "#### Process\n",
    "\n",
    "1. Get familiar with the data (table, summary statistics, plots)\n",
    "\n",
    "1. Training the model\n",
    "\n",
    "1. Evaluate model performance\n",
    "\n",
    "1. Report findings"
   ]
  },
  {
   "cell_type": "markdown",
   "metadata": {
    "slideshow": {
     "slide_type": "slide"
    }
   },
   "source": [
    "### Manage & Clean Data"
   ]
  },
  {
   "cell_type": "code",
   "execution_count": null,
   "metadata": {
    "slideshow": {
     "slide_type": "skip"
    }
   },
   "outputs": [],
   "source": [
    "# Load and visualize the data\n",
    "from pandas import read_csv\n",
    "from sklearn import datasets\n",
    "import pandas as pd\n",
    "import seaborn as sns\n",
    "from pandas.plotting import scatter_matrix\n",
    "import matplotlib.pyplot as plt\n",
    "\n",
    "# Machine learning\n",
    "from sklearn.model_selection import train_test_split\n",
    "from sklearn.svm import SVC\n",
    "\n",
    "# Evaluate model\n",
    "from sklearn.metrics import accuracy_score\n",
    "from sklearn.metrics import ConfusionMatrixDisplay as cm\n",
    "from sklearn.metrics import classification_report\n",
    "from sklearn import svm, datasets\n",
    "print('Libraries imported')"
   ]
  },
  {
   "cell_type": "code",
   "execution_count": null,
   "metadata": {
    "slideshow": {
     "slide_type": "skip"
    }
   },
   "outputs": [],
   "source": [
    "# Load dataset\n",
    "iris = datasets.load_iris()\n",
    "X = iris.data\n",
    "y = iris.target\n",
    "df = pd.DataFrame(X, columns = iris.feature_names)\n",
    "df['y'] = y\n",
    "\n",
    "df['y'].replace({0:\"Individual sport\",\n",
    "                 1: \"No sport\",\n",
    "                 2: \"Team sport\"},inplace=True)\n",
    "\n",
    "df.rename(columns={\"sepal length (cm)\":\"Strength\",\n",
    "                   \"sepal width (cm)\": \"Speed\",\n",
    "                   \"petal length (cm)\": \"Teamwork\",\n",
    "                   \"petal width (cm)\": \"Agility\",\n",
    "                   \"y\":\"SelectedSport\"}, \n",
    "                   inplace= True)\n",
    "print('Dataset loaded')"
   ]
  },
  {
   "cell_type": "markdown",
   "metadata": {},
   "source": [
    "## Explore Data"
   ]
  },
  {
   "cell_type": "markdown",
   "metadata": {},
   "source": [
    "Randomly sample 10 of the students from the dataset:"
   ]
  },
  {
   "cell_type": "code",
   "execution_count": null,
   "metadata": {
    "slideshow": {
     "slide_type": "fragment"
    }
   },
   "outputs": [],
   "source": [
    "df.sample(10)"
   ]
  },
  {
   "cell_type": "markdown",
   "metadata": {},
   "source": [
    "Verify that all our features have 150 entries, and that there is no missing (i.e. null) data):"
   ]
  },
  {
   "cell_type": "code",
   "execution_count": null,
   "metadata": {
    "slideshow": {
     "slide_type": "subslide"
    }
   },
   "outputs": [],
   "source": [
    "df.info()"
   ]
  },
  {
   "cell_type": "markdown",
   "metadata": {},
   "source": [
    "List the unique values in the dataset for our target variable `SelectedSport`:"
   ]
  },
  {
   "cell_type": "code",
   "execution_count": null,
   "metadata": {
    "slideshow": {
     "slide_type": "subslide"
    }
   },
   "outputs": [],
   "source": [
    "df['SelectedSport'].unique()"
   ]
  },
  {
   "cell_type": "markdown",
   "metadata": {
    "slideshow": {
     "slide_type": "fragment"
    }
   },
   "source": [
    "### Descriptive Statistics"
   ]
  },
  {
   "cell_type": "code",
   "execution_count": null,
   "metadata": {
    "slideshow": {
     "slide_type": "fragment"
    }
   },
   "outputs": [],
   "source": [
    "df.describe()"
   ]
  },
  {
   "cell_type": "markdown",
   "metadata": {
    "jp-MarkdownHeadingCollapsed": true,
    "tags": []
   },
   "source": [
    "Broken down by sport:"
   ]
  },
  {
   "cell_type": "code",
   "execution_count": null,
   "metadata": {
    "slideshow": {
     "slide_type": "fragment"
    }
   },
   "outputs": [],
   "source": [
    "individual = df[df['SelectedSport']=='Individual sport']\n",
    "no_sport = df[df['SelectedSport']=='No sport']\n",
    "team_sport = df[df['SelectedSport']=='Team sport']\n",
    "\n",
    "print('Individual sport')\n",
    "display(individual.describe())\n",
    "print('No sport')\n",
    "display(no_sport.describe())\n",
    "print('Team sport')\n",
    "display(team_sport.describe())"
   ]
  },
  {
   "cell_type": "markdown",
   "metadata": {
    "slideshow": {
     "slide_type": "slide"
    }
   },
   "source": [
    "### Generating visualization from summary stats"
   ]
  },
  {
   "cell_type": "code",
   "execution_count": null,
   "metadata": {
    "slideshow": {
     "slide_type": "skip"
    }
   },
   "outputs": [],
   "source": [
    "import ipywidgets as widgets\n",
    "from IPython.display import display\n",
    "dropdowna = widgets.Dropdown(\n",
    "    options=['Strength', 'Speed', 'Teamwork','Agility'],\n",
    "    value='Strength',\n",
    "    description='Item:',\n",
    "    disabled=False,\n",
    ")\n",
    "print('Function defined')"
   ]
  },
  {
   "cell_type": "markdown",
   "metadata": {},
   "source": [
    "Change the feature in the dropdown box and re-run the cell to view the box plot for each variable:"
   ]
  },
  {
   "cell_type": "code",
   "execution_count": null,
   "metadata": {
    "slideshow": {
     "slide_type": "subslide"
    }
   },
   "outputs": [],
   "source": [
    "# Box plots\n",
    "display(dropdowna)\n",
    "sns.catplot(x=\"SelectedSport\", y=dropdowna.value, data=df,hue='SelectedSport',kind='box').set(title=f'Selected variable: {dropdowna.value}')\n",
    "plt.show()"
   ]
  },
  {
   "cell_type": "markdown",
   "metadata": {
    "slideshow": {
     "slide_type": "slide"
    }
   },
   "source": [
    "### Generating distribution visualization"
   ]
  },
  {
   "cell_type": "code",
   "execution_count": null,
   "metadata": {
    "slideshow": {
     "slide_type": "skip"
    }
   },
   "outputs": [],
   "source": [
    "dropdownb = widgets.Dropdown(\n",
    "    options=['Strength', 'Speed', 'Teamwork','Agility'],\n",
    "    value='Strength',\n",
    "    description='Item:',\n",
    "    disabled=False,\n",
    ")\n",
    "print('Function defined')"
   ]
  },
  {
   "cell_type": "code",
   "execution_count": null,
   "metadata": {
    "slideshow": {
     "slide_type": "fragment"
    }
   },
   "outputs": [],
   "source": [
    "display(dropdownb)\n",
    "print(\"Histogram for various measurements (per class): \",dropdownb.value)\n",
    "sns.displot(df, x=dropdownb.value, col=\"SelectedSport\", multiple=\"dodge\");"
   ]
  },
  {
   "cell_type": "markdown",
   "metadata": {
    "slideshow": {
     "slide_type": "slide"
    }
   },
   "source": [
    "### Insights\n",
    "\n",
    "| Activity | Teamwork | Speed | Strength | Agility|\n",
    "| -    | -          | -     | -        | -     |\n",
    "|Independent sport|Lowest |Highest  | Lowest | Lowest |\n",
    "|No sport|Medium|Lowest|  Medium| Medium |\n",
    "|Team sport|Highest|Medium| Highest| Highest |\n"
   ]
  },
  {
   "cell_type": "markdown",
   "metadata": {
    "slideshow": {
     "slide_type": "slide"
    }
   },
   "source": [
    "# Hands-on Machine Learning\n",
    "\n",
    "After getting familiarized with our data through descriptive statistics and plots, we can then use machine learning to help us make decisions on any future students who we'd like to recommend a sport to.\n",
    "\n",
    "#### Independent variables (or variables we use to predict):\n",
    "\n",
    "1. Teamwork\n",
    "2. Speed\n",
    "3. Strength\n",
    "4. Agility\n",
    "\n",
    "#### Dependent variable (or the variable we want to predict):\n",
    "\n",
    "Type of activity\n",
    "\n",
    "#### Goal:\n",
    "\n",
    "Use an algorithm to predict what sport *new* students would be best at, given their scores in the four categories."
   ]
  },
  {
   "cell_type": "markdown",
   "metadata": {
    "slideshow": {
     "slide_type": "slide"
    }
   },
   "source": [
    "## Machine learning approach\n",
    "\n",
    "Randomly split dataset into **training** (80%) and **testing** (20%) data.\n",
    "\n",
    "Training data is used to, well, train the model. Training sets the parameters in the model that allows it to make predictions.\n",
    "\n",
    "After training, the algorithm performance will be evaluated by using the model to predict the outcomes for the testing data, and comparing that to their known values.\n"
   ]
  },
  {
   "cell_type": "code",
   "execution_count": null,
   "metadata": {
    "slideshow": {
     "slide_type": "subslide"
    }
   },
   "outputs": [],
   "source": [
    "array = df.values\n",
    "# All measurements\n",
    "X = array[:,0:4]\n",
    "# All classes\n",
    "y = array[:,4]\n",
    "# Split-out validation dataset\n",
    "X_train, X_validation, Y_train, Y_validation = train_test_split(X, y, \n",
    "                                                                test_size=0.20, \n",
    "                                                                random_state=1, \n",
    "                                                                shuffle=True)\n",
    "print('First 10 sets of training data: ')\n",
    "display(X_train[:10])"
   ]
  },
  {
   "cell_type": "markdown",
   "metadata": {
    "slideshow": {
     "slide_type": "subslide"
    }
   },
   "source": [
    "The problem we're attempting to solve falls into the ML category of **classification**, where our outcome of interest is membership in a group, or class. This is a common problem to solve, and there are many approaches we could take. The previous step of exploring our data can be helpful in guiding the specific ML technique we can use, and there's rarely only one appropriate method.\n",
    "\n",
    "We will use a [Support Vector Machine (SVM) classifier](https://www.kdnuggets.com/2016/07/support-vector-machines-simple-explanation.html) - a type of algorithm exploring non-linear relationships:\n",
    "\n",
    "<center><img src=\"https://miro.medium.com/max/1400/1*ZpkLQf2FNfzfH4HXeMw4MQ.png\" width=\"800\"></center>\n",
    "<p> \n",
    "<center> <a href=\"https://towardsdatascience.com/support-vector-machine-introduction-to-machine-learning-algorithms-934a444fca47\">Towards Data Science</a></center>\n",
    "</p>\n",
    "\n"
   ]
  },
  {
   "cell_type": "code",
   "execution_count": null,
   "metadata": {
    "slideshow": {
     "slide_type": "subslide"
    }
   },
   "outputs": [],
   "source": [
    "# Make predictions on validation dataset\n",
    "model = SVC(gamma='auto')\n",
    "model.fit(X_train, Y_train) # Fit the model\n",
    "predictions = model.predict(X_validation) # Make predictions\n",
    "print('Predictions made')"
   ]
  },
  {
   "cell_type": "code",
   "execution_count": null,
   "metadata": {
    "slideshow": {
     "slide_type": "subslide"
    }
   },
   "outputs": [],
   "source": [
    "print(f'Accuracy score: {round(accuracy_score(Y_validation, predictions),5)}')"
   ]
  },
  {
   "cell_type": "markdown",
   "metadata": {
    "slideshow": {
     "slide_type": "fragment"
    }
   },
   "source": [
    "We can see that the accuracy is 0.96667 or about 97% on the test data. However, accuracy on its own is not sufficient to measure model performance. We would also like to know *where* the model gets the classification wrong."
   ]
  },
  {
   "cell_type": "code",
   "execution_count": null,
   "metadata": {
    "slideshow": {
     "slide_type": "subslide"
    }
   },
   "outputs": [],
   "source": [
    "print(classification_report(Y_validation, predictions))"
   ]
  },
  {
   "cell_type": "markdown",
   "metadata": {
    "slideshow": {
     "slide_type": "subslide"
    }
   },
   "source": [
    "The metrics are calculated by using true and false positives, and true and false negatives, generating what's known as a **Confusion Matrix**:\n",
    "\n",
    "<center><img src=\"https://www.nbshare.io/static/snapshots/cm_colored_1-min.png\" width=\"600\"></center>\n",
    "<p> \n",
    "<center> <a href=\"https://www.nbshare.io/notebook/626706996/Learn-And-Code-Confusion-Matrix-With-Python/\">NBShare</a></center>\n",
    "</p>\n",
    "\n",
    "\n"
   ]
  },
  {
   "cell_type": "markdown",
   "metadata": {
    "slideshow": {
     "slide_type": "fragment"
    }
   },
   "source": [
    "**Precision** is a measure of a model's ability to correctly discern positive cases. Mathematically, it is the number of correctly classified positive cases (True Positives) over the total number of positive classifications (True Positive + False Positive). Another way to look at precision is to consider that for all the cases labelled positive, how many were truly positive.\n",
    "\n",
    "**Recall** is the ability of a classifier to find all positive instances. It can be calculated by dividing the number of True Positives by the sum of True Positives and False Negatives. Simply labelling all classes as positive would result in a recall rate of 100% (or 1) for that class, but would drastically reduce precision.\n",
    "\n",
    "Precision and recall are like different sides of a see-saw; as one increases, the other decreases (for the same dataset). **F1 Score** is a balanced average of the two scores, and is often reported when evaluating a model's performance.\n",
    "\n",
    "For all three measurements, a value of 1.0 is perfectly accurate, and 0.0 is perfectly useless. Support is the number of samples belonging to each class."
   ]
  },
  {
   "cell_type": "code",
   "execution_count": null,
   "metadata": {},
   "outputs": [],
   "source": [
    "classifier = model.fit(X_train, Y_train)\n",
    "fig, ax = plt.subplots(figsize=(8, 8))\n",
    "cm.from_estimator(classifier, X_validation, Y_validation,display_labels=['Individual sport', 'No sport', 'Team sport'],cmap=plt.cm.Blues,\n",
    "                      normalize=None,ax=ax)\n",
    "plt.title('Confusion Matrix for Selected Sport', fontsize=20)\n",
    "plt.show()"
   ]
  },
  {
   "cell_type": "markdown",
   "metadata": {
    "slideshow": {
     "slide_type": "fragment"
    }
   },
   "source": [
    "The diagonal elements represent the number of points for which the predicted label is equal to the true label, while off-diagonal elements are those that are mislabeled by the classifier. As we can see here, there's only one mislabeled observation (out of 30)."
   ]
  },
  {
   "cell_type": "markdown",
   "metadata": {
    "slideshow": {
     "slide_type": "slide"
    }
   },
   "source": [
    "<h2 align='center'>Final Analysis</h2>"
   ]
  },
  {
   "cell_type": "markdown",
   "metadata": {
    "slideshow": {
     "slide_type": "subslide"
    }
   },
   "source": [
    "<h3 align='center'>Let's take a look at the predicted values</h3>"
   ]
  },
  {
   "cell_type": "code",
   "execution_count": null,
   "metadata": {
    "slideshow": {
     "slide_type": "subslide"
    }
   },
   "outputs": [],
   "source": [
    "pred_df = pd.DataFrame(X_validation,columns=df.columns[0:4])\n",
    "\n",
    "pred_df['Predicted Class'] = predictions\n",
    "\n",
    "dropdownc = widgets.Dropdown(\n",
    "    options=['Individual sport', 'No sport', 'Team sport'],\n",
    "    value='Individual sport',\n",
    "    description='Class:',\n",
    "    disabled=False,\n",
    ")\n",
    "print('Run the cell below, select from the dropdown, and rerun the cell to change the displayed class')"
   ]
  },
  {
   "cell_type": "code",
   "execution_count": null,
   "metadata": {
    "slideshow": {
     "slide_type": "subslide"
    }
   },
   "outputs": [],
   "source": [
    "## 11 individual, 12 no sport, 7 team sport\n",
    "display(dropdownc)\n",
    "pred_df[pred_df['Predicted Class']==dropdownc.value]"
   ]
  },
  {
   "cell_type": "markdown",
   "metadata": {
    "slideshow": {
     "slide_type": "subslide"
    }
   },
   "source": [
    "### Which one did it get wrong? \n"
   ]
  },
  {
   "cell_type": "code",
   "execution_count": null,
   "metadata": {
    "slideshow": {
     "slide_type": "fragment"
    }
   },
   "outputs": [],
   "source": [
    "import numpy as np\n",
    "y_test = np.asarray(Y_validation)\n",
    "misclassified = np.where(y_test != model.predict(X_validation))\n",
    "\n",
    "print(misclassified)"
   ]
  },
  {
   "cell_type": "markdown",
   "metadata": {
    "slideshow": {
     "slide_type": "slide"
    }
   },
   "source": [
    "<h2 align='center'>Reporting</h2>"
   ]
  },
  {
   "cell_type": "markdown",
   "metadata": {
    "slideshow": {
     "slide_type": "subslide"
    }
   },
   "source": [
    "So as we can see in the exercise here, machine learning is relatively simple to implement. With only a few collected variables, we can estimate our outcome of interest (Selected Sport) with high accuracy. In our example, after we trained the model, only one of the 30 students whose data we ran through the model was misclassified. The term misclassified here has a specific definition, because the data we used to *test* the model already had known values (ground truths) for the sport.\n",
    "\n",
    "In reality, once you've trained and validated your model and put it into use, it's much more difficult to know how accurate your results are. Even the most accurate machine learning models can only be accurate to the data that was used to construct them, and if that data is messy (or **biased**), that can affect the conclusions that are drawn from them. There's a saying in computer science that's been around since the field's inception: *'Garbage in, garbage out'*. This is the most important role of anyone creating any data science or algorithmic content, ensuring that the data entering the model is as fair and equitable as possible:"
   ]
  },
  {
   "cell_type": "markdown",
   "metadata": {
    "slideshow": {
     "slide_type": "subslide"
    },
    "tags": []
   },
   "source": [
    "## Discussion: Identifying bias\n",
    "\n",
    "1. What issues can you identify in the initial problem statement?\n",
    "\n",
    "1. What biases in the data can you identify?\n",
    "\n",
    "1. What are the consequences of those biases when the algorithm is in action?"
   ]
  },
  {
   "cell_type": "markdown",
   "metadata": {
    "slideshow": {
     "slide_type": "slide"
    }
   },
   "source": [
    "<h2 align='center'>Real examples</h2>\n",
    "\n",
    "Amazon ditches AI recruiting tool that was only hiring men [(Reuters)](https://www.reuters.com/article/us-amazon-com-jobs-automation-insight-idUSKCN1MK08G)\n",
    "\n",
    "\n",
    "Can Racist Algorithms Be Fixed? [(The Marshall Project)](https://www.themarshallproject.org/2019/07/01/can-racist-algorithms-be-fixed)\n",
    "\n",
    "\n",
    "Black and Asian faces misidentified more often by facial recognition software [(CBC)](https://www.cbc.ca/news/technology/facial-recognition-race-1.5403899)\n",
    "\n",
    "\n",
    "UK ditches exam results generated by biased algorithm after student protests [(The Verge)](https://www.theverge.com/2020/8/17/21372045/uk-a-level-results-algorithm-biased-coronavirus-covid-19-pandemic-university-applications)"
   ]
  },
  {
   "cell_type": "markdown",
   "metadata": {
    "slideshow": {
     "slide_type": "slide"
    }
   },
   "source": [
    "<h1 align='center'> What can we do? </h1>"
   ]
  },
  {
   "cell_type": "markdown",
   "metadata": {
    "slideshow": {
     "slide_type": "slide"
    }
   },
   "source": [
    "![Callysto.ca Banner](https://github.com/callysto/curriculum-notebooks/blob/master/callysto-notebook-banner-top.jpg?raw=true)\n",
    "\n",
    "<h2 align='center'>Getting Started with Callysto</h2>\n",
    "\n",
    "- Feedback form https://tinyurl.com/y2a3uhdt\n",
    "- Online self-paced courses (courses.callysto.ca)  \n",
    "- Preview our learning modules https://callysto.github.io/curriculum-jbook/intro.html\n",
    "- Contact us for “in-class” workshops, teacher PD, virtual hackathons, and more\n",
    "\n",
    "Email: contact@callysto.ca\n",
    "\n",
    "On Twitter: @callysto_canada\n",
    "\n",
    "Site: https://www.callysto.ca\n",
    "\n",
    "YouTube https://www.youtube.com/channel/UCPdq1SYKA42EZBvUlNQUAng "
   ]
  },
  {
   "cell_type": "markdown",
   "metadata": {
    "slideshow": {
     "slide_type": "skip"
    }
   },
   "source": [
    "[![Callysto.ca License](https://github.com/callysto/curriculum-notebooks/blob/master/callysto-notebook-banner-bottom.jpg?raw=true)](https://github.com/callysto/curriculum-notebooks/blob/master/LICENSE.md)"
   ]
  }
 ],
 "metadata": {
  "celltoolbar": "Slideshow",
  "kernelspec": {
   "display_name": "Python 3 (ipykernel)",
   "language": "python",
   "name": "python3"
  },
  "language_info": {
   "codemirror_mode": {
    "name": "ipython",
    "version": 3
   },
   "file_extension": ".py",
   "mimetype": "text/x-python",
   "name": "python",
   "nbconvert_exporter": "python",
   "pygments_lexer": "ipython3",
   "version": "3.9.12"
  },
  "rise": {
   "autolaunch": false,
   "backimage": "Bgnd0.jpg"
  }
 },
 "nbformat": 4,
 "nbformat_minor": 4
}
